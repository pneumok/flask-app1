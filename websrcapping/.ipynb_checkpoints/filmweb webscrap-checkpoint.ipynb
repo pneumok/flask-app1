{
 "cells": [
  {
   "cell_type": "code",
   "execution_count": 49,
   "metadata": {},
   "outputs": [],
   "source": [
    "import requests\n",
    "from bs4 import BeautifulSoup\n",
    "result=[]\n",
    "search_titles=['wróg u bram','stulatek','fast','harry potter i komnata tajemnic']\n",
    "for title in search_titles:\n",
    "    filmweb_url='https://www.filmweb.pl/search?q='+title\n",
    "    r=requests.get(filmweb_url)\n",
    "    c=r.content\n",
    "\n",
    "    filmweb_soup=BeautifulSoup(c,\"html.parser\")\n",
    "\n",
    "    movie=filmweb_soup.find(\"div\",{\"class\":\"filmPreview\"})\n",
    "    d={}\n",
    "    try:\n",
    "        d[\"Polish Title\"]=movie.find(\"h3\",{\"class\":\"filmPreview__title\"}).text\n",
    "    except:\n",
    "        d[\"Polish Title\"]=None\n",
    "    try:\n",
    "        d[\"Original Title\"]=movie.find(\"div\",{\"class\":\"filmPreview__originalTitle\"}).text\n",
    "    except:\n",
    "        d[\"Original Title\"]=None\n",
    "    try:\n",
    "        d[\"FILMWEB rating\"]=movie.find(\"span\",{\"class\":\"rateBox__rate\"}).text\n",
    "    except:\n",
    "        d[\"FILMWEB rating\"]=None\n",
    "        \n",
    "    result.append(d)"
   ]
  },
  {
   "cell_type": "code",
   "execution_count": 50,
   "metadata": {},
   "outputs": [
    {
     "data": {
      "text/plain": [
       "[{'Polish Title': 'Wróg u bram',\n",
       "  'Original Title': 'Enemy at the Gates',\n",
       "  'FILMWEB rating': '7,9'},\n",
       " {'Polish Title': 'Stulatek, który wyskoczył przez okno i zniknął',\n",
       "  'Original Title': 'Hundraåringen som klev ut genom fönstret och försvann',\n",
       "  'FILMWEB rating': '7,0'},\n",
       " {'Polish Title': 'Szybcy i wściekli',\n",
       "  'Original Title': 'The Fast and the Furious',\n",
       "  'FILMWEB rating': '7,5'},\n",
       " {'Polish Title': 'Harry Potter i Komnata Tajemnic',\n",
       "  'Original Title': 'Harry Potter and the Chamber of Secrets',\n",
       "  'FILMWEB rating': '7,4'}]"
      ]
     },
     "execution_count": 50,
     "metadata": {},
     "output_type": "execute_result"
    }
   ],
   "source": [
    "result"
   ]
  },
  {
   "cell_type": "code",
   "execution_count": null,
   "metadata": {},
   "outputs": [],
   "source": []
  }
 ],
 "metadata": {
  "kernelspec": {
   "display_name": "Python 3",
   "language": "python",
   "name": "python3"
  },
  "language_info": {
   "codemirror_mode": {
    "name": "ipython",
    "version": 3
   },
   "file_extension": ".py",
   "mimetype": "text/x-python",
   "name": "python",
   "nbconvert_exporter": "python",
   "pygments_lexer": "ipython3",
   "version": "3.6.5"
  }
 },
 "nbformat": 4,
 "nbformat_minor": 2
}
