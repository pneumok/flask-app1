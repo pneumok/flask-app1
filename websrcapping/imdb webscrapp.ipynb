{
 "cells": [
  {
   "cell_type": "code",
   "execution_count": null,
   "metadata": {},
   "outputs": [],
   "source": [
    "import requests\n",
    "from bs4 import BeautifulSoup\n",
    "result=[]\n",
    "search_titles=['wróg u bram','stulatek','fast','harry potter i komnata tajemnic']\n",
    "lista_tytulow=[]\n",
    "for title in search_titles:\n",
    "    imdb_url='https://www.imdb.com/find?ref_=nv_sr_fn&q='+title+'&s=all'\n",
    "    r=requests.get(imdb_url)\n",
    "    c=r.content\n",
    "\n",
    "    imdb_soup=BeautifulSoup(c,\"html.parser\")\n",
    "\n",
    "    movie=imdb_soup.find(\"div\",{\"class\":\"findSection\"})\n",
    "    d={}\n",
    "    try:\n",
    "        d[\"Polish Title\"]=movie.find(\"h1\",{\"class\":\"\"}).text\n",
    "    except:\n",
    "        d[\"Polish Title\"]=None\n",
    "    try:\n",
    "        d[\"Original Title\"]=movie.find(\"div\",{\"class\":\"originalTitle\"}).text\n",
    "    except:\n",
    "        d[\"Original Title\"]=None\n",
    " #   try:\n",
    "  #      d[\"FILMWEB rating\"]=movie.find(\"span\",{\"class\":\"rateBox__rate\"}).text\n",
    "   # except:\n",
    "    #    d[\"FILMWEB rating\"]=None\n",
    "        \n",
    "    result.append(d)"
   ]
  },
  {
   "cell_type": "code",
   "execution_count": 87,
   "metadata": {},
   "outputs": [],
   "source": [
    "import requests\n",
    "from bs4 import BeautifulSoup\n",
    "result=[]\n",
    "titles=['harry potter','fast and','die hard','mission imbossible','space jam']\n",
    "for title in titles:\n",
    "    imdb_url='https://www.imdb.com/find?ref_=nv_sr_fn&q='+title+'&s=all'\n",
    "    r=requests.get(imdb_url)\n",
    "    c=r.content\n",
    "\n",
    "    imdb_soup=BeautifulSoup(c,\"html.parser\")\n",
    "    movie=imdb_soup.find(\"div\",{\"class\":\"findSection\"})\n",
    "    selected_movie=movie.find(\"td\",{\"class\":\"result_text\"}).find(\"a\")\n",
    "    url=selected_movie.attrs[\"href\"]\n",
    "    new_url='https://www.imdb.com'+ url\n",
    "\n",
    "    r=requests.get(new_url)\n",
    "    c=r.content\n",
    "    imdb_soup=BeautifulSoup(c,\"html.parser\")\n",
    "\n",
    "    movie=imdb_soup.find(\"div\",{\"class\":\"titleBar\"})\n",
    "    d={}\n",
    "    try:\n",
    "        d[\"English Title\"]=movie.find(\"h1\",{\"class\":\"\"}).text[0:-8]\n",
    "    except:\n",
    "        d[\"English Title\"]=None\n",
    "    try:\n",
    "        d[\"Original Title\"]=movie.find(\"div\",{\"class\":\"originalTitle\"}).text[0:-17]\n",
    "    except:\n",
    "        d[\"Original Title\"]=None\n",
    "    movie=imdb_soup.find(\"div\",{\"class\":\"title_block\"})      \n",
    "    try:\n",
    "        d[\"IMDB rating\"]=movie.find(\"div\",{\"class\":\"ratingValue\"}).text.replace(\"\\n\",\"\")[0:3]\n",
    "    except:\n",
    "        d[\"IMDB rating\"]=None\n",
    "\n",
    "    result.append(d)"
   ]
  },
  {
   "cell_type": "code",
   "execution_count": 88,
   "metadata": {},
   "outputs": [
    {
     "data": {
      "text/plain": [
       "[{'English Title': 'Harry Potter i Kamień Filozoficzny',\n",
       "  'Original Title': \"Harry Potter and the Sorcerer's Stone\",\n",
       "  'IMDB rating': '7.6'},\n",
       " {'English Title': 'Szybcy i wściekli 8',\n",
       "  'Original Title': 'The Fate of the Furious',\n",
       "  'IMDB rating': '6.7'},\n",
       " {'English Title': 'Szklana pułapka',\n",
       "  'Original Title': 'Die Hard',\n",
       "  'IMDB rating': '8.2'},\n",
       " {'English Title': 'Mission: Impossible - Fallout',\n",
       "  'Original Title': None,\n",
       "  'IMDB rating': '8.2'},\n",
       " {'English Title': 'Kosmiczny mecz',\n",
       "  'Original Title': 'Space Jam',\n",
       "  'IMDB rating': '6.3'}]"
      ]
     },
     "execution_count": 88,
     "metadata": {},
     "output_type": "execute_result"
    }
   ],
   "source": [
    "result"
   ]
  },
  {
   "cell_type": "code",
   "execution_count": 85,
   "metadata": {},
   "outputs": [],
   "source": [
    "import requests\n",
    "from bs4 import BeautifulSoup\n",
    "result=[]\n",
    "title='how high'\n",
    "imdb_url='https://www.imdb.com/find?ref_=nv_sr_fn&q='+title+'&s=all'\n",
    "r=requests.get(imdb_url)\n",
    "c=r.content\n",
    "\n",
    "imdb_soup=BeautifulSoup(c,\"html.parser\")\n",
    "movie=imdb_soup.find(\"div\",{\"class\":\"findSection\"})\n",
    "selected_movie=movie.find(\"td\",{\"class\":\"result_text\"}).find(\"a\")\n",
    "url=selected_movie.attrs[\"href\"]\n",
    "new_url='https://www.imdb.com'+ url\n",
    "\n",
    "r=requests.get(new_url)\n",
    "c=r.content\n",
    "imdb_soup=BeautifulSoup(c,\"html.parser\")\n",
    "\n",
    "movie=imdb_soup.find(\"div\",{\"class\":\"titleBar\"})\n",
    "d={}\n",
    "try:\n",
    "    d[\"English Title\"]=movie.find(\"h1\",{\"class\":\"\"}).text[0:-8]\n",
    "except:\n",
    "    d[\"English Title\"]=None\n",
    "try:\n",
    "    d[\"Original Title\"]=movie.find(\"div\",{\"class\":\"originalTitle\"}).text[0:-17]\n",
    "except:\n",
    "    d[\"Original Title\"]=None\n",
    "movie=imdb_soup.find(\"div\",{\"class\":\"title_block\"})      \n",
    "try:\n",
    "    d[\"IMDB rating\"]=movie.find(\"div\",{\"class\":\"ratingValue\"}).text.replace(\"\\n\",\"\")[0:3]\n",
    "except:\n",
    "    d[\"IMDB rating\"]=None\n",
    "result.append(d)"
   ]
  },
  {
   "cell_type": "code",
   "execution_count": 86,
   "metadata": {},
   "outputs": [
    {
     "data": {
      "text/plain": [
       "[{'English Title': 'Super zioło',\n",
       "  'Original Title': 'How High',\n",
       "  'IMDB rating': '6.3'}]"
      ]
     },
     "execution_count": 86,
     "metadata": {},
     "output_type": "execute_result"
    }
   ],
   "source": [
    "result"
   ]
  },
  {
   "cell_type": "code",
   "execution_count": 82,
   "metadata": {},
   "outputs": [
    {
     "name": "stdout",
     "output_type": "stream",
     "text": [
      "<div class=\"ratingValue\">\n",
      "<strong title=\"6.3 based on 48,229 user ratings\"><span>6.3</span></strong><span class=\"grey\">/</span><span class=\"grey\">10</span> </div>\n"
     ]
    }
   ],
   "source": [
    "print(movie.find(\"div\",{\"class\":\"ratingValue\"}))"
   ]
  },
  {
   "cell_type": "code",
   "execution_count": null,
   "metadata": {},
   "outputs": [],
   "source": []
  }
 ],
 "metadata": {
  "kernelspec": {
   "display_name": "Python 3",
   "language": "python",
   "name": "python3"
  },
  "language_info": {
   "codemirror_mode": {
    "name": "ipython",
    "version": 3
   },
   "file_extension": ".py",
   "mimetype": "text/x-python",
   "name": "python",
   "nbconvert_exporter": "python",
   "pygments_lexer": "ipython3",
   "version": "3.6.5"
  }
 },
 "nbformat": 4,
 "nbformat_minor": 2
}
